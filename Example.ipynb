{
 "cells": [
  {
   "cell_type": "markdown",
   "metadata": {},
   "source": [
    "# Setup"
   ]
  },
  {
   "cell_type": "code",
   "execution_count": 3,
   "metadata": {},
   "outputs": [],
   "source": [
    "import numpy as np  \n",
    "import matplotlib.pyplot as plt\n",
    "plt.style.use('seaborn-whitegrid')\n",
    "prop_cycle = plt.rcParams['axes.prop_cycle']\n",
    "colors = prop_cycle.by_key()['color']\n",
    "import discr \n",
    "import scipy.stats as ss"
   ]
  },
  {
   "cell_type": "markdown",
   "metadata": {},
   "source": [
    "# Example"
   ]
  },
  {
   "cell_type": "code",
   "execution_count": 4,
   "metadata": {},
   "outputs": [
    {
     "name": "stdout",
     "output_type": "stream",
     "text": [
      "Convergence with 4 moments!\n"
     ]
    },
    {
     "data": {
      "image/png": "[encoded data removed]",
      "text/plain": [
       "<Figure size 432x288 with 1 Axes>"
      ]
     },
     "metadata": {},
     "output_type": "display_data"
    }
   ],
   "source": [
    "Nm = 15 # Number of points in grid \n",
    "nMoments = 4 # Number of moments to (try to) match \n",
    "rho = 0.5 # persistence of AR(1) process\n",
    "if rho <= 1-2/(Nm-1):\n",
    "    nSigmas = np.sqrt(2*(Nm-1));\n",
    "else:\n",
    "    nSigmas = np.sqrt(Nm-1);\n",
    "\n",
    "mu = 0.05 # unconditonal mean \n",
    "sigmaC = np.array([0.1, 0.03]) # std. of normal dists.\n",
    "muC = np.array([-0.004, 0.001]) # mean og normal dists. \n",
    "pC = np.array([0.16, 0.84]) # probability of drawing from each normal dist. (must sum to 1)\n",
    "sigmaC2 = sigmaC**2 # variance\n",
    "\n",
    "# first 4 uncentered moments of process \n",
    "# If no analytical expression exists these can be computed using numerical integration \n",
    "T1 = pC @ muC # mean\n",
    "T2 = pC @ (muC**2+sigmaC2)  # uncentered second moment\n",
    "T3 = pC @ (muC**3+3*muC*sigmaC2) # uncentered third moment\n",
    "T4 = pC @ (muC**4+6*(muC**2)*sigmaC2+3*sigmaC2**2) # uncentered fourth moment\n",
    "\n",
    "TBar = [T1, T2, T3, T4]\n",
    "\n",
    "sigma = np.sqrt(T2-T1**2) # conditional standard deviation\n",
    "temp = 1 / (1-np.kron(rho,rho)) \n",
    "sigmaX = sigma*np.sqrt(temp) # unconditional standard deviation    \n",
    "X = np.linspace(mu-nSigmas*sigmaX,mu+nSigmas*sigmaX, Nm) # grid\n",
    "\n",
    "\n",
    "condmean_f = lambda x : mu*(1-rho) + rho*x\n",
    "q_func = lambda x : np.sum([p * ss.norm.pdf(x, mu, sd) for mu, sd, p in zip(muC, sigmaC, pC)], axis=0)  \n",
    "scale = int((1 / (1-np.kron(rho,rho)) ))\n",
    "tol=1e-05\n",
    "\n",
    "# run discretization \n",
    "P, LambdaBar, momentError, q  = discr.discr_mixnorm(mu, Nm, nMoments, X, TBar, q_func, condmean_f, tol, scale)\n",
    "\n",
    "pi = discr.stationary(P) # stationary distribution \n",
    "assert np.isclose(np.sum(pi), 1)\n",
    "plt.plot(X, pi)\n",
    "plt.show()\n",
    "\n"
   ]
  },
  {
   "cell_type": "code",
   "execution_count": null,
   "metadata": {},
   "outputs": [],
   "source": []
  }
 ],
 "metadata": {
  "kernelspec": {
   "display_name": "Python 3",
   "language": "python",
   "name": "python3"
  },
  "language_info": {
   "codemirror_mode": {
    "name": "ipython",
    "version": 3
   },
   "file_extension": ".py",
   "mimetype": "text/x-python",
   "name": "python",
   "nbconvert_exporter": "python",
   "pygments_lexer": "ipython3",
   "version": "3.7.7"
  }
 },
 "nbformat": 4,
 "nbformat_minor": 4
}
