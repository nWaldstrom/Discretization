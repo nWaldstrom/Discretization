{
 "cells": [
  {
   "cell_type": "markdown",
   "metadata": {},
   "source": [
    "# Setup"
   ]
  },
  {
   "cell_type": "code",
   "execution_count": 3,
   "metadata": {},
   "outputs": [],
   "source": [
    "import numpy as np  \n",
    "import matplotlib.pyplot as plt\n",
    "plt.style.use('seaborn-whitegrid')\n",
    "prop_cycle = plt.rcParams['axes.prop_cycle']\n",
    "colors = prop_cycle.by_key()['color']\n",
    "import discr \n",
    "import scipy.stats as ss"
   ]
  },
  {
   "cell_type": "markdown",
   "metadata": {},
   "source": [
    "# Example"
   ]
  },
  {
   "cell_type": "code",
   "execution_count": 4,
   "metadata": {},
   "outputs": [
    {
     "name": "stdout",
     "output_type": "stream",
     "text": [
      "Convergence with 4 moments!\n"
     ]
    },
    {
     "data": {
      "image/png": "[encoded data removed]",
      "text/plain": [
       "<Figure size 432x288 with 1 Axes>"
      ]
     },
     "metadata": {},
     "output_type": "display_data"
    }
   ],
   "source": [
    "Nm = 15 # Number of points in grid \n",
    "nMoments = 4 # Number of moments to (try to) match \n",
    "rho = 0.5 # persistence of AR(1) process\n",
    "if rho <= 1-2/(Nm-1):\n",
    "    nSigmas = np.sqrt(2*(Nm-1));\n",
    "else:\n",
    "    nSigmas = np.sqrt(Nm-1);\n",
    "\n",
    "mu = 0.05 # unconditonal mean \n",
    "sigmaC = np.array([0.1, 0.03]) # std. of normal dists.\n",
    "muC = np.array([-0.004, 0.001]) # mean og normal dists. \n",
    "pC = np.array([0.16, 0.84]) # probability of drawing from each normal dist. (must sum to 1)\n",
    "sigmaC2 = sigmaC**2 # variance\n",
    "\n",
    "# first 4 uncentered moments of process \n",
    "# If no analytical expression exists these can be computed using numerical integration \n",
    "T1 = pC @ muC # mean\n",
    "T2 = pC @ (muC**2+sigmaC2)  # uncentered second moment\n",
    "T3 = pC @ (muC**3+3*muC*sigmaC2) # uncentered third moment\n",
    "T4 = pC @ (muC**4+6*(muC**2)*sigmaC2+3*sigmaC2**2) # uncentered fourth moment\n",
    "\n",
    "TBar = [T1, T2, T3, T4]\n",
    "\n",
    "sigma = np.sqrt(T2-T1**2) # conditional standard deviation\n",
    "temp = 1 / (1-np.kron(rho,rho)) \n",
    "sigmaX = sigma*np.sqrt(temp) # unconditional standard deviation    \n",
    "X = np.linspace(mu-nSigmas*sigmaX,mu+nSigmas*sigmaX, Nm) # grid\n",
    "\n",
    "\n",
    "condmean_f = lambda x : mu*(1-rho) + rho*x\n",
    "q_func = lambda x : np.sum([p * ss.norm.pdf(x, mu, sd) for mu, sd, p in zip(muC, sigmaC, pC)], axis=0)  \n",
    "scale = int((1 / (1-np.kron(rho,rho)) ))\n",
    "tol=1e-05\n",
    "\n",
    "# run discretization \n",
    "P, LambdaBar, momentError, q  = discr.discr_mixnorm(mu, Nm, nMoments, X, TBar, q_func, condmean_f, tol, scale)\n",
    "\n",
    "pi = discr.stationary(P) # stationary distribution \n",
    "assert np.isclose(np.sum(pi), 1)\n",
    "plt.plot(X, pi)\n",
    "plt.show()\n",
    "\n"
   ]
  },
  {
   "cell_type": "markdown",
   "metadata": {},
   "source": [
    "# Comparison with actual AR(1) process"
   ]
  },
  {
   "cell_type": "markdown",
   "metadata": {},
   "source": [
    "## Defing functions for simulation first "
   ]
  },
  {
   "cell_type": "code",
   "execution_count": 6,
   "metadata": {},
   "outputs": [],
   "source": [
    "# function to simulate draws from mixed normal \n",
    "from scipy.stats import norm \n",
    "def sim_mixnorm(mu1, mu2, sig1, sig2, p, N):\n",
    "    np.random.seed(0x5eed)\n",
    "    n_components = 2\n",
    "    norm_params = np.array([[mu1, sig1],\n",
    "                           [mu2, sig2]])\n",
    "\n",
    "    weights = np.array([p, 1-p])\n",
    "    mixture_idx = np.random.choice(n_components, size=N, replace=True, p=weights)\n",
    "    pars = [mixture_idx * mu1 + (1-mixture_idx) * mu2, mixture_idx * sig1 + (1-mixture_idx) * sig2]\n",
    "    y =   norm.rvs(*(pars))\n",
    "    return y\n",
    "\n",
    "# simulate AR(1) process with mixed normal innovations \n",
    "def simAR1_mixnorm(rho, mu, mu1, mu2, sig1, sig2, p, N, T):\n",
    "    burnin = 100\n",
    "    T += burnin\n",
    "    y = np.zeros([T,N]) * np.nan \n",
    "    y[0, :] = 0\n",
    "    shocks = sim_mixnorm(mu1, mu2, sig1, sig2, p, T*N)\n",
    "    shocks = np.reshape(shocks, (T, N))\n",
    "    for t in range(T-1):\n",
    "        y[t+1, :] = mu + rho * y[t, :] + shocks[t+1,:]\n",
    "    y = y[burnin:]\n",
    "    return y \n",
    "\n",
    "# function to simulate markov chain \n",
    "import quantecon as qe\n",
    "def sim_markov(Pi, grid, T, N):\n",
    "    mc = qe.MarkovChain(Pi, state_values=grid)\n",
    "    # T, N = 1500, 5000\n",
    "    burnin = 100\n",
    "    X = mc.simulate(ts_length=T+burnin, num_reps=N, random_state=1)\n",
    "    X = X[burnin:]\n",
    "    return X\n"
   ]
  },
  {
   "cell_type": "code",
   "execution_count": 12,
   "metadata": {},
   "outputs": [
    {
     "name": "stdout",
     "output_type": "stream",
     "text": [
      "[[ 1.47988708e-01  8.02023074e-02 -1.26739102e-01 ...  2.82873143e-01\n",
      "   2.72482155e-01  5.75280669e-02]\n",
      " [ 2.13011342e-01  1.02736355e-01 -9.43892961e-02 ...  3.84956217e-02\n",
      "   1.05334223e-01  1.11096796e-01]\n",
      " [ 7.80237300e-02  1.55205342e-02  2.20980970e-01 ...  1.65352345e-01\n",
      "   1.07606909e-01  1.23071801e-01]\n",
      " ...\n",
      " [ 1.64291351e-01  6.53952967e-02  1.35158427e-01 ...  4.60000424e-02\n",
      "  -2.91632033e-02  1.09239207e-01]\n",
      " [ 1.68213885e-01  1.00288902e-01  1.47099565e-01 ...  1.70583969e-01\n",
      "   5.41379445e-02 -9.02494579e-02]\n",
      " [ 2.57509287e-04  1.14036883e-01  3.85905116e-02 ...  2.34796936e-01\n",
      "  -7.46926930e-02  3.94457261e-02]]\n"
     ]
    }
   ],
   "source": [
    "N,T = 2000, 1000 # 2000 individuals in 1000 periods \n",
    "\n",
    "# sim AR(1)\n",
    "AR1_y = simAR1_mixnorm(rho, mu, muC[0], muC[1], sigmaC[0], sigmaC[1], pC[0], N, T)\n",
    "\n",
    "# sim Markov chain \n",
    "Markov_y = sim_markov(P, X, T, N)"
   ]
  },
  {
   "cell_type": "code",
   "execution_count": 13,
   "metadata": {},
   "outputs": [
    {
     "data": {
      "image/png": "[encoded data removed]",
      "text/plain": [
       "<Figure size 800x560 with 1 Axes>"
      ]
     },
     "metadata": {},
     "output_type": "display_data"
    }
   ],
   "source": [
    "import seaborn as sns\n",
    "kwargs = dict(hist_kws={'alpha':.6}, kde_kws={'linewidth':2})\n",
    "\n",
    "plt.figure(figsize=(10,7), dpi= 80)\n",
    "sns.distplot(AR1_y.flatten(), color=\"dodgerblue\", label=\"AR(1)\", **kwargs)\n",
    "sns.distplot(Markov_y.flatten(), color=\"orange\", label=\"Markov\", **kwargs)\n",
    "# plt.xlim(50,75)\n",
    "plt.legend()\n",
    "plt.show() "
   ]
  },
  {
   "cell_type": "markdown",
   "metadata": {},
   "source": [
    "## Moments"
   ]
  },
  {
   "cell_type": "code",
   "execution_count": 16,
   "metadata": {},
   "outputs": [],
   "source": [
    "from scipy.stats import kurtosis, tstd, skew"
   ]
  },
  {
   "cell_type": "code",
   "execution_count": 17,
   "metadata": {},
   "outputs": [],
   "source": [
    "AR1_y_flat = AR1_y.flatten()\n",
    "Markov_y_flat = Markov_y.flatten()\n",
    "mean_AR1, mean_markov = np.average(AR1_y_flat), np.average(Markov_y_flat)\n",
    "std_AR1, std_markov = tstd(AR1_y_flat), tstd(Markov_y_flat)\n",
    "skew_AR1, skew_markov = skew(AR1_y_flat), skew(Markov_y_flat)\n",
    "kurtosis_AR1, kurtosis_markov = kurtosis(AR1_y_flat), kurtosis(Markov_y_flat)\n",
    "\n"
   ]
  },
  {
   "cell_type": "code",
   "execution_count": 18,
   "metadata": {},
   "outputs": [
    {
     "name": "stdout",
     "output_type": "stream",
     "text": [
      "0.09364294883058456 0.05037117699550096\n",
      "0.10680209086423093 0.05643053054472135\n",
      "-0.017986607015817578 -0.12427086270806371\n",
      "0.27695863199041293 3.6487930482244053\n"
     ]
    }
   ],
   "source": [
    "print(mean_AR1, mean_markov) \n",
    "print(std_AR1, std_markov) \n",
    "print(skew_AR1, skew_markov) \n",
    "print(kurtosis_AR1, kurtosis_markov) \n"
   ]
  },
  {
   "cell_type": "code",
   "execution_count": null,
   "metadata": {},
   "outputs": [],
   "source": []
  }
 ],
 "metadata": {
  "kernelspec": {
   "display_name": "Python 3",
   "language": "python",
   "name": "python3"
  },
  "language_info": {
   "codemirror_mode": {
    "name": "ipython",
    "version": 3
   },
   "file_extension": ".py",
   "mimetype": "text/x-python",
   "name": "python",
   "nbconvert_exporter": "python",
   "pygments_lexer": "ipython3",
   "version": "3.7.7"
  }
 },
 "nbformat": 4,
 "nbformat_minor": 4
}
